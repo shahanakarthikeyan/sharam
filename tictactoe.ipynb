{
 "cells": [
  {
   "cell_type": "code",
   "execution_count": 4,
   "id": "0a691a1a-65c2-4096-8402-db275d3cf32c",
   "metadata": {},
   "outputs": [
    {
     "name": "stdin",
     "output_type": "stream",
     "text": [
      "Enter Your Name: shahana\n"
     ]
    },
    {
     "name": "stdout",
     "output_type": "stream",
     "text": [
      "Good Luck shahana!\n",
      "shahana , Your Symbol is X\n",
      "_ | _ | _\n",
      "_________\n",
      "_ | _ | _\n",
      "_________\n",
      "_ | _ | _\n"
     ]
    },
    {
     "name": "stdin",
     "output_type": "stream",
     "text": [
      "Enter a number 1-9:  1\n"
     ]
    },
    {
     "name": "stdout",
     "output_type": "stream",
     "text": [
      "X | _ | _\n",
      "_________\n",
      "O | _ | _\n",
      "_________\n",
      "_ | _ | _\n"
     ]
    },
    {
     "name": "stdin",
     "output_type": "stream",
     "text": [
      "Enter a number 1-9:  5\n"
     ]
    },
    {
     "name": "stdout",
     "output_type": "stream",
     "text": [
      "X | _ | _\n",
      "_________\n",
      "O | X | _\n",
      "_________\n",
      "_ | _ | O\n"
     ]
    },
    {
     "name": "stdin",
     "output_type": "stream",
     "text": [
      "Enter a number 1-9:  2\n"
     ]
    },
    {
     "name": "stdout",
     "output_type": "stream",
     "text": [
      "X | X | _\n",
      "_________\n",
      "O | X | _\n",
      "_________\n",
      "_ | O | O\n"
     ]
    },
    {
     "name": "stdin",
     "output_type": "stream",
     "text": [
      "Enter a number 1-9:  3\n"
     ]
    },
    {
     "name": "stdout",
     "output_type": "stream",
     "text": [
      "The winner is X\n",
      "X | X | X\n",
      "_________\n",
      "O | X | _\n",
      "_________\n",
      "_ | O | O\n"
     ]
    }
   ],
   "source": [
    "import random\n",
    "Name=input(\"Enter Your Name:\")\n",
    "print(f\"Good Luck {Name}!\")\n",
    "\n",
    "board = [\"_\", \"_\", \"_\",\n",
    "         \"_\", \"_\", \"_\",\n",
    "         \"_\", \"_\", \"_\"]\n",
    "\n",
    "CurrentPlayer = 'X'\n",
    "winner = None\n",
    "gameRunning = True\n",
    "\n",
    "print(f'{Name} , Your Symbol is {CurrentPlayer}')\n",
    "def printBoard(board):\n",
    "    print(board[0] + \" | \" + board[1] + \" | \" + board[2])\n",
    "    print(\"_________\")\n",
    "    print(board[3] + \" | \" + board[4] + \" | \" + board[5])\n",
    "    print(\"_________\")\n",
    "    print(board[6] + \" | \" + board[7] + \" | \" + board[8])\n",
    "\n",
    "def playerInput(board):\n",
    "    inp = int(input(\"Enter a number 1-9: \"))\n",
    "    if inp >= 1 and inp <= 9 and board[inp - 1] == \"_\":\n",
    "        board[inp - 1] = CurrentPlayer\n",
    "    else:\n",
    "        print(\"Oops, the spot is already taken!\")\n",
    "\n",
    "def checkRow(board):\n",
    "    global winner\n",
    "    if board[0] == board[1] == board[2] and board[0] != \"_\":\n",
    "        winner = board[0]\n",
    "        return True\n",
    "    elif board[3] == board[4] == board[5] and board[3] != \"_\":\n",
    "        winner = board[3]\n",
    "        return True\n",
    "    elif board[6] == board[7] == board[8] and board[6] != \"_\":\n",
    "        winner = board[6]\n",
    "        return True\n",
    "    return False\n",
    "\n",
    "def checkColumn(board):\n",
    "    global winner\n",
    "    if board[0] == board[3] == board[6] and board[0] != \"_\":\n",
    "        winner = board[0]\n",
    "        return True\n",
    "    elif board[1] == board[4] == board[7] and board[1] != \"_\":\n",
    "        winner = board[1]\n",
    "        return True\n",
    "    elif board[2] == board[5] == board[8] and board[2] != \"_\":\n",
    "        winner = board[2]\n",
    "        return True\n",
    "    return False\n",
    "\n",
    "def checkDiagonal(board):\n",
    "    global winner\n",
    "    if board[0] == board[4] == board[8] and board[0] != \"_\":\n",
    "        winner = board[0]\n",
    "        return True\n",
    "    elif board[2] == board[4] == board[6] and board[2] != \"_\":\n",
    "        winner = board[2]\n",
    "        return True\n",
    "    return False\n",
    "\n",
    "def checkTie(board):\n",
    "    global gameRunning\n",
    "    if \"_\" not in board:\n",
    "        printBoard(board)\n",
    "        print(\"It is a tie!\")\n",
    "        gameRunning = False\n",
    "\n",
    "def checkWin():\n",
    "    if checkRow(board) or checkColumn(board) or checkDiagonal(board):\n",
    "        print(f\"The winner is {winner}\")\n",
    "        printBoard(board)\n",
    "        global gameRunning\n",
    "        gameRunning = False\n",
    "\n",
    "def computer(board):\n",
    "    while CurrentPlayer == \"O\":\n",
    "        position = random.randint(0, 8)\n",
    "        if board[position] == \"_\":\n",
    "            board[position] = \"O\"\n",
    "            switchPlayer()\n",
    "            break\n",
    "\n",
    "def switchPlayer():\n",
    "    global CurrentPlayer\n",
    "    if CurrentPlayer == \"X\":\n",
    "        CurrentPlayer = \"O\"\n",
    "    else:\n",
    "        CurrentPlayer = \"X\"\n",
    "\n",
    "while gameRunning:\n",
    "    printBoard(board)\n",
    "    playerInput(board)\n",
    "    checkWin()\n",
    "    checkTie(board)\n",
    "    switchPlayer()\n",
    "    \n",
    "    if gameRunning:\n",
    "        computer(board)\n",
    "        checkWin()\n",
    "        checkTie(board)\n"
   ]
  },
  {
   "cell_type": "code",
   "execution_count": null,
   "id": "54ede677-1a5f-41c3-b33b-8d1b41a390e5",
   "metadata": {},
   "outputs": [],
   "source": []
  }
 ],
 "metadata": {
  "kernelspec": {
   "display_name": "Python 3 (ipykernel)",
   "language": "python",
   "name": "python3"
  },
  "language_info": {
   "codemirror_mode": {
    "name": "ipython",
    "version": 3
   },
   "file_extension": ".py",
   "mimetype": "text/x-python",
   "name": "python",
   "nbconvert_exporter": "python",
   "pygments_lexer": "ipython3",
   "version": "3.12.3"
  }
 },
 "nbformat": 4,
 "nbformat_minor": 5
}
